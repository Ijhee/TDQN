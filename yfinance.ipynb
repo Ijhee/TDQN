{
 "cells": [
  {
   "cell_type": "code",
   "execution_count": 9,
   "metadata": {},
   "outputs": [
    {
     "name": "stderr",
     "output_type": "stream",
     "text": [
      "[*********************100%%**********************]  1 of 1 completed\n",
      "[*********************100%%**********************]  1 of 1 completed\n"
     ]
    }
   ],
   "source": [
    "import yfinance as yf\n",
    "df = yf.download('MSFT', start='2022-01-01', end='2023-12-31')\n",
    "df_val = yf.download('MSFT', start='2024-01-01', end='2024-5-31')"
   ]
  },
  {
   "cell_type": "code",
   "execution_count": 10,
   "metadata": {},
   "outputs": [],
   "source": [
    "df.reset_index(inplace=True)\n",
    "df.drop('Adj Close', axis=1,inplace=True)\n",
    "df.columns = ['Timestamp', 'Open', 'High', 'Low', 'Close', 'Volume']\n",
    "df.to_csv(\"MSFT_2022-1-1_2023-12-31.csv\",index=False)"
   ]
  },
  {
   "cell_type": "code",
   "execution_count": 11,
   "metadata": {},
   "outputs": [],
   "source": [
    "df_val.reset_index(inplace=True)\n",
    "df_val.drop('Adj Close', axis=1,inplace=True)\n",
    "df_val.columns = ['Timestamp', 'Open', 'High', 'Low', 'Close', 'Volume']\n",
    "df_val.to_csv(\"MSFT_2024-1-1_2024-5-31.csv\",index=False)"
   ]
  },
  {
   "cell_type": "code",
   "execution_count": null,
   "metadata": {},
   "outputs": [],
   "source": []
  }
 ],
 "metadata": {
  "kernelspec": {
   "display_name": "trading_env",
   "language": "python",
   "name": "python3"
  },
  "language_info": {
   "codemirror_mode": {
    "name": "ipython",
    "version": 3
   },
   "file_extension": ".py",
   "mimetype": "text/x-python",
   "name": "python",
   "nbconvert_exporter": "python",
   "pygments_lexer": "ipython3",
   "version": "3.11.5"
  }
 },
 "nbformat": 4,
 "nbformat_minor": 2
}
